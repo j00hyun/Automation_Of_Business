{
 "cells": [
  {
   "cell_type": "code",
   "execution_count": null,
   "metadata": {
    "collapsed": true
   },
   "outputs": [],
   "source": [
    "import requests"
   ]
  },
  {
   "cell_type": "code",
   "execution_count": null,
   "metadata": {
    "collapsed": true
   },
   "outputs": [],
   "source": [
    "# 기본 템플릿(피드, 리스트, 위치, 커머스, 텍스트) : https://kapi.kakao.com/v2/api/talk/memo/default/send\n",
    "# 스크랩 템플릿 : https://kapi.kakao.com/v2/api/talk/memo/scrap/send\n",
    "# 커스텀 템플릿 : https://kapi.kakao.com/v2/api/talk/memo/send\n",
    "default_talk_url = \"https://kapi.kakao.com/v2/api/talk/memo/default/send\"\n",
    "custom_talk_url = \"https://kapi.kakao.com/v2/api/talk/memo/send\""
   ]
  },
  {
   "cell_type": "code",
   "execution_count": null,
   "metadata": {
    "collapsed": false
   },
   "outputs": [],
   "source": [
    "# 사용자 토큰\n",
    "token = '<본인의 API키 넣기>'\n",
    "header = {\n",
    "    \"Authorization\": \"Bearer {본인의 사용자 토큰 넣기}\".format(\n",
    "        token=token\n",
    "    )\n",
    "}"
   ]
  },
  {
   "cell_type": "code",
   "execution_count": null,
   "metadata": {
    "collapsed": true
   },
   "outputs": [],
   "source": [
    "# 1. 기본 템플릿 보내기"
   ]
  },
  {
   "cell_type": "code",
   "execution_count": null,
   "metadata": {
    "collapsed": false
   },
   "outputs": [],
   "source": [
    "# 리스트 템플릿 파일\n",
    "list_template = \"template/list_template.json\"\n",
    "# feed_template = \"template/feed_template.json\"\n",
    "# location_template = \"template/location_template.json\"\n",
    "# commerce_template = \"template/commerce_template.json\"\n",
    "# text_template = \"template/text_template.json\"\n",
    "\n",
    "template_file = list_template\n",
    "with open(template_file, 'r', encoding='utf-8') as f:\n",
    "    payload = {'template_object' : f.read()}"
   ]
  },
  {
   "cell_type": "code",
   "execution_count": null,
   "metadata": {
    "collapsed": false
   },
   "outputs": [],
   "source": [
    "print(payload)"
   ]
  },
  {
   "cell_type": "code",
   "execution_count": null,
   "metadata": {
    "collapsed": true
   },
   "outputs": [],
   "source": [
    "# 리스트 템플릿 카카오톡 메시지 전송\n",
    "res = requests.post(default_talk_url, data=payload, headers=header)"
   ]
  },
  {
   "cell_type": "code",
   "execution_count": null,
   "metadata": {
    "collapsed": false
   },
   "outputs": [],
   "source": [
    "if res.json().get('result_code') == 0:\n",
    "    print('메시지를 성공적으로 보냈습니다.')\n",
    "else:\n",
    "    print('메시지를 성공적으로 보내지 못했습니다. 오류메시지 : ' + str(res.json()))"
   ]
  },
  {
   "cell_type": "code",
   "execution_count": null,
   "metadata": {
    "collapsed": true
   },
   "outputs": [],
   "source": [
    "# 2. 커스텀 템플릿 보내기"
   ]
  },
  {
   "cell_type": "code",
   "execution_count": null,
   "metadata": {
    "collapsed": true
   },
   "outputs": [],
   "source": [
    "payload = {\n",
    "    'template_id' : {본인의 templete id 넣기},\n",
    "    'template_args' : '{\"name\": \"테스트 제목\"}'\n",
    "}"
   ]
  },
  {
   "cell_type": "code",
   "execution_count": null,
   "metadata": {
    "collapsed": false
   },
   "outputs": [],
   "source": [
    "# 커스텀 템플릿 카카오톡 메시지 전송\n",
    "res = requests.post(custom_talk_url, data=payload, headers=header)"
   ]
  },
  {
   "cell_type": "code",
   "execution_count": null,
   "metadata": {
    "collapsed": false
   },
   "outputs": [],
   "source": [
    "if res.json().get('result_code') == 0:\n",
    "    print('메시지를 성공적으로 보냈습니다.')\n",
    "else:\n",
    "    print('메시지를 성공적으로 보내지 못했습니다. 오류메시지 : ' + str(res.json()))"
   ]
  },
  {
   "cell_type": "code",
   "execution_count": null,
   "metadata": {
    "collapsed": true
   },
   "outputs": [],
   "source": []
  }
 ],
 "metadata": {
  "kernelspec": {
   "display_name": "Python 3",
   "language": "python",
   "name": "python3"
  },
  "language_info": {
   "codemirror_mode": {
    "name": "ipython",
    "version": 3
   },
   "file_extension": ".py",
   "mimetype": "text/x-python",
   "name": "python",
   "nbconvert_exporter": "python",
   "pygments_lexer": "ipython3",
   "version": "3.5.1"
  }
 },
 "nbformat": 4,
 "nbformat_minor": 4
}
